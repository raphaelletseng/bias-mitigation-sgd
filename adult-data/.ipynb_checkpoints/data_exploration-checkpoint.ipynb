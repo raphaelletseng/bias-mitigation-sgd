{
 "cells": [
  {
   "cell_type": "code",
   "execution_count": 5,
   "metadata": {},
   "outputs": [
    {
     "name": "stdout",
     "output_type": "stream",
     "text": [
      "Requirement already satisfied: pandas in /Users/eunbeejang/miniconda3/envs/py38/lib/python3.8/site-packages (1.1.2)\n",
      "Requirement already satisfied: pytz>=2017.2 in /Users/eunbeejang/miniconda3/envs/py38/lib/python3.8/site-packages (from pandas) (2020.1)\n",
      "Requirement already satisfied: numpy>=1.15.4 in /Users/eunbeejang/miniconda3/envs/py38/lib/python3.8/site-packages (from pandas) (1.19.2)\n",
      "Requirement already satisfied: python-dateutil>=2.7.3 in /Users/eunbeejang/.local/lib/python3.8/site-packages (from pandas) (2.8.1)\n",
      "Requirement already satisfied: six>=1.5 in /Users/eunbeejang/miniconda3/envs/py38/lib/python3.8/site-packages (from python-dateutil>=2.7.3->pandas) (1.15.0)\n",
      "Collecting pandas-profiling\n",
      "  Using cached pandas_profiling-2.9.0-py2.py3-none-any.whl (258 kB)\n",
      "Requirement already satisfied: ipywidgets>=7.5.1 in /Users/eunbeejang/miniconda3/envs/py38/lib/python3.8/site-packages (from pandas-profiling) (7.5.1)\n",
      "Requirement already satisfied: attrs>=19.3.0 in /Users/eunbeejang/miniconda3/envs/py38/lib/python3.8/site-packages (from pandas-profiling) (20.2.0)\n",
      "Requirement already satisfied: tqdm>=4.43.0 in /Users/eunbeejang/miniconda3/envs/py38/lib/python3.8/site-packages (from pandas-profiling) (4.49.0)\n",
      "Requirement already satisfied: scipy>=1.4.1 in /Users/eunbeejang/miniconda3/envs/py38/lib/python3.8/site-packages (from pandas-profiling) (1.5.2)\n",
      "Requirement already satisfied: joblib in /Users/eunbeejang/miniconda3/envs/py38/lib/python3.8/site-packages (from pandas-profiling) (0.16.0)\n",
      "Requirement already satisfied: matplotlib>=3.2.0 in /Users/eunbeejang/miniconda3/envs/py38/lib/python3.8/site-packages (from pandas-profiling) (3.3.2)\n",
      "Requirement already satisfied: jinja2>=2.11.1 in /Users/eunbeejang/miniconda3/envs/py38/lib/python3.8/site-packages (from pandas-profiling) (2.11.2)\n",
      "Collecting visions[type_image_path]==0.5.0\n",
      "  Using cached visions-0.5.0-py3-none-any.whl (64 kB)\n",
      "Requirement already satisfied: tangled-up-in-unicode>=0.0.6 in /Users/eunbeejang/miniconda3/envs/py38/lib/python3.8/site-packages (from pandas-profiling) (0.0.6)\n",
      "Requirement already satisfied: seaborn>=0.10.1 in /Users/eunbeejang/miniconda3/envs/py38/lib/python3.8/site-packages (from pandas-profiling) (0.11.0)\n",
      "Requirement already satisfied: numpy>=1.16.0 in /Users/eunbeejang/miniconda3/envs/py38/lib/python3.8/site-packages (from pandas-profiling) (1.19.2)\n",
      "Collecting missingno>=0.4.2\n",
      "  Using cached missingno-0.4.2-py3-none-any.whl (9.7 kB)\n",
      "Requirement already satisfied: pandas!=1.0.0,!=1.0.1,!=1.0.2,!=1.1.0,>=0.25.3 in /Users/eunbeejang/miniconda3/envs/py38/lib/python3.8/site-packages (from pandas-profiling) (1.1.2)\n",
      "Requirement already satisfied: requests>=2.23.0 in /Users/eunbeejang/miniconda3/envs/py38/lib/python3.8/site-packages (from pandas-profiling) (2.24.0)\n",
      "Collecting confuse>=1.0.0\n",
      "  Using cached confuse-1.3.0-py2.py3-none-any.whl (64 kB)\n",
      "Collecting phik>=0.9.10\n",
      "  Using cached phik-0.10.0-py3-none-any.whl (599 kB)\n",
      "Processing /Users/eunbeejang/Library/Caches/pip/wheels/23/14/6e/4be5bfeeb027f4939a01764b48edd5996acf574b0913fe5243/htmlmin-0.1.12-py3-none-any.whl\n",
      "Requirement already satisfied: traitlets>=4.3.1 in /Users/eunbeejang/.local/lib/python3.8/site-packages (from ipywidgets>=7.5.1->pandas-profiling) (5.0.5)\n",
      "Requirement already satisfied: ipython>=4.0.0; python_version >= \"3.3\" in /Users/eunbeejang/.local/lib/python3.8/site-packages (from ipywidgets>=7.5.1->pandas-profiling) (7.18.1)\n",
      "Requirement already satisfied: ipykernel>=4.5.1 in /Users/eunbeejang/.local/lib/python3.8/site-packages (from ipywidgets>=7.5.1->pandas-profiling) (5.3.4)\n",
      "Requirement already satisfied: nbformat>=4.2.0 in /Users/eunbeejang/miniconda3/envs/py38/lib/python3.8/site-packages (from ipywidgets>=7.5.1->pandas-profiling) (5.0.7)\n",
      "Requirement already satisfied: widgetsnbextension~=3.5.0 in /Users/eunbeejang/miniconda3/envs/py38/lib/python3.8/site-packages (from ipywidgets>=7.5.1->pandas-profiling) (3.5.1)\n",
      "Requirement already satisfied: kiwisolver>=1.0.1 in /Users/eunbeejang/miniconda3/envs/py38/lib/python3.8/site-packages (from matplotlib>=3.2.0->pandas-profiling) (1.2.0)\n",
      "Requirement already satisfied: pyparsing!=2.0.4,!=2.1.2,!=2.1.6,>=2.0.3 in /Users/eunbeejang/miniconda3/envs/py38/lib/python3.8/site-packages (from matplotlib>=3.2.0->pandas-profiling) (2.4.7)\n",
      "Requirement already satisfied: cycler>=0.10 in /Users/eunbeejang/miniconda3/envs/py38/lib/python3.8/site-packages (from matplotlib>=3.2.0->pandas-profiling) (0.10.0)\n",
      "Requirement already satisfied: certifi>=2020.06.20 in /Users/eunbeejang/miniconda3/envs/py38/lib/python3.8/site-packages (from matplotlib>=3.2.0->pandas-profiling) (2020.6.20)\n",
      "Requirement already satisfied: pillow>=6.2.0 in /Users/eunbeejang/miniconda3/envs/py38/lib/python3.8/site-packages (from matplotlib>=3.2.0->pandas-profiling) (7.2.0)\n",
      "Requirement already satisfied: python-dateutil>=2.1 in /Users/eunbeejang/.local/lib/python3.8/site-packages (from matplotlib>=3.2.0->pandas-profiling) (2.8.1)\n",
      "Requirement already satisfied: MarkupSafe>=0.23 in /Users/eunbeejang/miniconda3/envs/py38/lib/python3.8/site-packages (from jinja2>=2.11.1->pandas-profiling) (1.1.1)\n",
      "Requirement already satisfied: networkx>=2.4 in /Users/eunbeejang/miniconda3/envs/py38/lib/python3.8/site-packages (from visions[type_image_path]==0.5.0->pandas-profiling) (2.5)\n",
      "Processing /Users/eunbeejang/Library/Caches/pip/wheels/cc/57/bb/6f9f52a6d8187b8f806210e3378837aa4dc6219cd64cb99846/ImageHash-4.1.0-py2.py3-none-any.whl\n",
      "Requirement already satisfied: pytz>=2017.2 in /Users/eunbeejang/miniconda3/envs/py38/lib/python3.8/site-packages (from pandas!=1.0.0,!=1.0.1,!=1.0.2,!=1.1.0,>=0.25.3->pandas-profiling) (2020.1)\n",
      "Requirement already satisfied: idna<3,>=2.5 in /Users/eunbeejang/miniconda3/envs/py38/lib/python3.8/site-packages (from requests>=2.23.0->pandas-profiling) (2.10)\n",
      "Requirement already satisfied: chardet<4,>=3.0.2 in /Users/eunbeejang/miniconda3/envs/py38/lib/python3.8/site-packages (from requests>=2.23.0->pandas-profiling) (3.0.4)\n",
      "Requirement already satisfied: urllib3!=1.25.0,!=1.25.1,<1.26,>=1.21.1 in /Users/eunbeejang/miniconda3/envs/py38/lib/python3.8/site-packages (from requests>=2.23.0->pandas-profiling) (1.25.10)\n",
      "Processing /Users/eunbeejang/Library/Caches/pip/wheels/13/90/db/290ab3a34f2ef0b5a0f89235dc2d40fea83e77de84ed2dc05c/PyYAML-5.3.1-cp38-cp38-macosx_10_9_x86_64.whl\n",
      "Requirement already satisfied: numba>=0.38.1 in /Users/eunbeejang/miniconda3/envs/py38/lib/python3.8/site-packages (from phik>=0.9.10->pandas-profiling) (0.51.2)\n",
      "Requirement already satisfied: ipython-genutils in /Users/eunbeejang/.local/lib/python3.8/site-packages (from traitlets>=4.3.1->ipywidgets>=7.5.1->pandas-profiling) (0.2.0)\n",
      "Requirement already satisfied: pygments in /Users/eunbeejang/.local/lib/python3.8/site-packages (from ipython>=4.0.0; python_version >= \"3.3\"->ipywidgets>=7.5.1->pandas-profiling) (2.7.1)\n",
      "Requirement already satisfied: pickleshare in /Users/eunbeejang/.local/lib/python3.8/site-packages (from ipython>=4.0.0; python_version >= \"3.3\"->ipywidgets>=7.5.1->pandas-profiling) (0.7.5)\n",
      "Requirement already satisfied: backcall in /Users/eunbeejang/.local/lib/python3.8/site-packages (from ipython>=4.0.0; python_version >= \"3.3\"->ipywidgets>=7.5.1->pandas-profiling) (0.2.0)\n",
      "Requirement already satisfied: setuptools>=18.5 in /Users/eunbeejang/miniconda3/envs/py38/lib/python3.8/site-packages (from ipython>=4.0.0; python_version >= \"3.3\"->ipywidgets>=7.5.1->pandas-profiling) (49.6.0.post20200814)\n",
      "Requirement already satisfied: prompt-toolkit!=3.0.0,!=3.0.1,<3.1.0,>=2.0.0 in /Users/eunbeejang/.local/lib/python3.8/site-packages (from ipython>=4.0.0; python_version >= \"3.3\"->ipywidgets>=7.5.1->pandas-profiling) (3.0.8)\n",
      "Requirement already satisfied: jedi>=0.10 in /Users/eunbeejang/.local/lib/python3.8/site-packages (from ipython>=4.0.0; python_version >= \"3.3\"->ipywidgets>=7.5.1->pandas-profiling) (0.17.2)\n",
      "Requirement already satisfied: appnope; sys_platform == \"darwin\" in /Users/eunbeejang/.local/lib/python3.8/site-packages (from ipython>=4.0.0; python_version >= \"3.3\"->ipywidgets>=7.5.1->pandas-profiling) (0.1.0)\n",
      "Requirement already satisfied: pexpect>4.3; sys_platform != \"win32\" in /Users/eunbeejang/.local/lib/python3.8/site-packages (from ipython>=4.0.0; python_version >= \"3.3\"->ipywidgets>=7.5.1->pandas-profiling) (4.8.0)\n",
      "Requirement already satisfied: decorator in /Users/eunbeejang/.local/lib/python3.8/site-packages (from ipython>=4.0.0; python_version >= \"3.3\"->ipywidgets>=7.5.1->pandas-profiling) (4.4.2)\n",
      "Requirement already satisfied: tornado>=4.2 in /Users/eunbeejang/.local/lib/python3.8/site-packages (from ipykernel>=4.5.1->ipywidgets>=7.5.1->pandas-profiling) (6.0.4)\n",
      "Requirement already satisfied: jupyter-client in /Users/eunbeejang/.local/lib/python3.8/site-packages (from ipykernel>=4.5.1->ipywidgets>=7.5.1->pandas-profiling) (6.1.7)\n",
      "Requirement already satisfied: jsonschema!=2.5.0,>=2.4 in /Users/eunbeejang/miniconda3/envs/py38/lib/python3.8/site-packages (from nbformat>=4.2.0->ipywidgets>=7.5.1->pandas-profiling) (3.2.0)\n"
     ]
    },
    {
     "name": "stdout",
     "output_type": "stream",
     "text": [
      "Requirement already satisfied: jupyter-core in /Users/eunbeejang/.local/lib/python3.8/site-packages (from nbformat>=4.2.0->ipywidgets>=7.5.1->pandas-profiling) (4.6.3)\n",
      "Requirement already satisfied: notebook>=4.4.1 in /Users/eunbeejang/miniconda3/envs/py38/lib/python3.8/site-packages (from widgetsnbextension~=3.5.0->ipywidgets>=7.5.1->pandas-profiling) (6.1.4)\n",
      "Requirement already satisfied: six in /Users/eunbeejang/miniconda3/envs/py38/lib/python3.8/site-packages (from cycler>=0.10->matplotlib>=3.2.0->pandas-profiling) (1.15.0)\n",
      "Requirement already satisfied: PyWavelets in /Users/eunbeejang/miniconda3/envs/py38/lib/python3.8/site-packages (from imagehash; extra == \"type_image_path\"->visions[type_image_path]==0.5.0->pandas-profiling) (1.1.1)\n",
      "Requirement already satisfied: llvmlite<0.35,>=0.34.0.dev0 in /Users/eunbeejang/miniconda3/envs/py38/lib/python3.8/site-packages (from numba>=0.38.1->phik>=0.9.10->pandas-profiling) (0.34.0)\n",
      "Requirement already satisfied: wcwidth in /Users/eunbeejang/.local/lib/python3.8/site-packages (from prompt-toolkit!=3.0.0,!=3.0.1,<3.1.0,>=2.0.0->ipython>=4.0.0; python_version >= \"3.3\"->ipywidgets>=7.5.1->pandas-profiling) (0.2.5)\n",
      "Requirement already satisfied: parso<0.8.0,>=0.7.0 in /Users/eunbeejang/.local/lib/python3.8/site-packages (from jedi>=0.10->ipython>=4.0.0; python_version >= \"3.3\"->ipywidgets>=7.5.1->pandas-profiling) (0.7.1)\n",
      "Requirement already satisfied: ptyprocess>=0.5 in /Users/eunbeejang/.local/lib/python3.8/site-packages (from pexpect>4.3; sys_platform != \"win32\"->ipython>=4.0.0; python_version >= \"3.3\"->ipywidgets>=7.5.1->pandas-profiling) (0.6.0)\n",
      "Requirement already satisfied: pyzmq>=13 in /Users/eunbeejang/.local/lib/python3.8/site-packages (from jupyter-client->ipykernel>=4.5.1->ipywidgets>=7.5.1->pandas-profiling) (19.0.2)\n",
      "Requirement already satisfied: pyrsistent>=0.14.0 in /Users/eunbeejang/miniconda3/envs/py38/lib/python3.8/site-packages (from jsonschema!=2.5.0,>=2.4->nbformat>=4.2.0->ipywidgets>=7.5.1->pandas-profiling) (0.17.3)\n",
      "Requirement already satisfied: argon2-cffi in /Users/eunbeejang/miniconda3/envs/py38/lib/python3.8/site-packages (from notebook>=4.4.1->widgetsnbextension~=3.5.0->ipywidgets>=7.5.1->pandas-profiling) (20.1.0)\n",
      "Requirement already satisfied: terminado>=0.8.3 in /Users/eunbeejang/miniconda3/envs/py38/lib/python3.8/site-packages (from notebook>=4.4.1->widgetsnbextension~=3.5.0->ipywidgets>=7.5.1->pandas-profiling) (0.9.1)\n",
      "Requirement already satisfied: nbconvert in /Users/eunbeejang/miniconda3/envs/py38/lib/python3.8/site-packages (from notebook>=4.4.1->widgetsnbextension~=3.5.0->ipywidgets>=7.5.1->pandas-profiling) (6.0.5)\n",
      "Requirement already satisfied: prometheus-client in /Users/eunbeejang/miniconda3/envs/py38/lib/python3.8/site-packages (from notebook>=4.4.1->widgetsnbextension~=3.5.0->ipywidgets>=7.5.1->pandas-profiling) (0.8.0)\n",
      "Requirement already satisfied: Send2Trash in /Users/eunbeejang/miniconda3/envs/py38/lib/python3.8/site-packages (from notebook>=4.4.1->widgetsnbextension~=3.5.0->ipywidgets>=7.5.1->pandas-profiling) (1.5.0)\n",
      "Requirement already satisfied: cffi>=1.0.0 in /Users/eunbeejang/miniconda3/envs/py38/lib/python3.8/site-packages (from argon2-cffi->notebook>=4.4.1->widgetsnbextension~=3.5.0->ipywidgets>=7.5.1->pandas-profiling) (1.14.3)\n",
      "Requirement already satisfied: testpath in /Users/eunbeejang/miniconda3/envs/py38/lib/python3.8/site-packages (from nbconvert->notebook>=4.4.1->widgetsnbextension~=3.5.0->ipywidgets>=7.5.1->pandas-profiling) (0.4.4)\n",
      "Requirement already satisfied: bleach in /Users/eunbeejang/miniconda3/envs/py38/lib/python3.8/site-packages (from nbconvert->notebook>=4.4.1->widgetsnbextension~=3.5.0->ipywidgets>=7.5.1->pandas-profiling) (3.2.1)\n",
      "Requirement already satisfied: nbclient<0.6.0,>=0.5.0 in /Users/eunbeejang/miniconda3/envs/py38/lib/python3.8/site-packages (from nbconvert->notebook>=4.4.1->widgetsnbextension~=3.5.0->ipywidgets>=7.5.1->pandas-profiling) (0.5.0)\n",
      "Requirement already satisfied: defusedxml in /Users/eunbeejang/miniconda3/envs/py38/lib/python3.8/site-packages (from nbconvert->notebook>=4.4.1->widgetsnbextension~=3.5.0->ipywidgets>=7.5.1->pandas-profiling) (0.6.0)\n",
      "Requirement already satisfied: mistune<2,>=0.8.1 in /Users/eunbeejang/miniconda3/envs/py38/lib/python3.8/site-packages (from nbconvert->notebook>=4.4.1->widgetsnbextension~=3.5.0->ipywidgets>=7.5.1->pandas-profiling) (0.8.4)\n",
      "Requirement already satisfied: pandocfilters>=1.4.1 in /Users/eunbeejang/miniconda3/envs/py38/lib/python3.8/site-packages (from nbconvert->notebook>=4.4.1->widgetsnbextension~=3.5.0->ipywidgets>=7.5.1->pandas-profiling) (1.4.2)\n",
      "Requirement already satisfied: entrypoints>=0.2.2 in /Users/eunbeejang/miniconda3/envs/py38/lib/python3.8/site-packages (from nbconvert->notebook>=4.4.1->widgetsnbextension~=3.5.0->ipywidgets>=7.5.1->pandas-profiling) (0.3)\n",
      "Requirement already satisfied: jupyterlab-pygments in /Users/eunbeejang/miniconda3/envs/py38/lib/python3.8/site-packages (from nbconvert->notebook>=4.4.1->widgetsnbextension~=3.5.0->ipywidgets>=7.5.1->pandas-profiling) (0.1.1)\n",
      "Requirement already satisfied: pycparser in /Users/eunbeejang/miniconda3/envs/py38/lib/python3.8/site-packages (from cffi>=1.0.0->argon2-cffi->notebook>=4.4.1->widgetsnbextension~=3.5.0->ipywidgets>=7.5.1->pandas-profiling) (2.20)\n",
      "Requirement already satisfied: webencodings in /Users/eunbeejang/miniconda3/envs/py38/lib/python3.8/site-packages (from bleach->nbconvert->notebook>=4.4.1->widgetsnbextension~=3.5.0->ipywidgets>=7.5.1->pandas-profiling) (0.5.1)\n",
      "Requirement already satisfied: packaging in /Users/eunbeejang/miniconda3/envs/py38/lib/python3.8/site-packages (from bleach->nbconvert->notebook>=4.4.1->widgetsnbextension~=3.5.0->ipywidgets>=7.5.1->pandas-profiling) (20.4)\n",
      "Requirement already satisfied: async-generator in /Users/eunbeejang/miniconda3/envs/py38/lib/python3.8/site-packages (from nbclient<0.6.0,>=0.5.0->nbconvert->notebook>=4.4.1->widgetsnbextension~=3.5.0->ipywidgets>=7.5.1->pandas-profiling) (1.10)\n",
      "Requirement already satisfied: nest-asyncio in /Users/eunbeejang/miniconda3/envs/py38/lib/python3.8/site-packages (from nbclient<0.6.0,>=0.5.0->nbconvert->notebook>=4.4.1->widgetsnbextension~=3.5.0->ipywidgets>=7.5.1->pandas-profiling) (1.4.0)\n",
      "Installing collected packages: imagehash, visions, missingno, pyyaml, confuse, phik, htmlmin, pandas-profiling\n",
      "Successfully installed confuse-1.3.0 htmlmin-0.1.12 imagehash-4.1.0 missingno-0.4.2 pandas-profiling-2.9.0 phik-0.10.0 pyyaml-5.3.1 visions-0.5.0\n"
     ]
    }
   ],
   "source": [
    "!pip install pandas\n",
    "!pip install pandas-profiling\n",
    "import pandas as pd\n",
    "import seaborn as sns\n",
    "import matplotlib.pyplot as plt\n",
    "from matplotlib import gridspec\n",
    "import collections\n",
    "\n"
   ]
  },
  {
   "cell_type": "code",
   "execution_count": 9,
   "metadata": {},
   "outputs": [],
   "source": [
    "cols = ['age', 'workclass', 'fnlwgt', 'education',\n",
    "        'education-num', 'marital-status', 'occupation',\n",
    "        'relationship', 'race', 'sex', 'capital-gain',\n",
    "        'capital-loss', 'hours-per-week', 'native-country', 'y']\n"
   ]
  },
  {
   "cell_type": "code",
   "execution_count": 10,
   "metadata": {},
   "outputs": [],
   "source": [
    "train_path = \"adult.data\"\n",
    "train_df = pd.read_csv(train_path, sep=',', names=cols)"
   ]
  },
  {
   "cell_type": "code",
   "execution_count": 11,
   "metadata": {},
   "outputs": [],
   "source": [
    "test_path = \"adult.test\"\n",
    "test_df = pd.read_csv(test_path, sep=',', names=cols)"
   ]
  },
  {
   "cell_type": "code",
   "execution_count": 12,
   "metadata": {},
   "outputs": [
    {
     "data": {
      "application/vnd.jupyter.widget-view+json": {
       "model_id": "31a3ce4c389a49cda53d72321d3ae2f8",
       "version_major": 2,
       "version_minor": 0
      },
      "text/plain": [
       "HBox(children=(FloatProgress(value=0.0, description='Summarize dataset', max=29.0, style=ProgressStyle(descrip…"
      ]
     },
     "metadata": {},
     "output_type": "display_data"
    },
    {
     "name": "stdout",
     "output_type": "stream",
     "text": [
      "\n"
     ]
    },
    {
     "data": {
      "application/vnd.jupyter.widget-view+json": {
       "model_id": "6217d79fe6d74a95af318c15438ac391",
       "version_major": 2,
       "version_minor": 0
      },
      "text/plain": [
       "HBox(children=(FloatProgress(value=0.0, description='Generate report structure', max=1.0, style=ProgressStyle(…"
      ]
     },
     "metadata": {},
     "output_type": "display_data"
    },
    {
     "name": "stdout",
     "output_type": "stream",
     "text": [
      "\n"
     ]
    },
    {
     "data": {
      "application/vnd.jupyter.widget-view+json": {
       "model_id": "0a8d6108d0234474b05260bc66d5fa0c",
       "version_major": 2,
       "version_minor": 0
      },
      "text/plain": [
       "HBox(children=(FloatProgress(value=0.0, description='Render HTML', max=1.0, style=ProgressStyle(description_wi…"
      ]
     },
     "metadata": {},
     "output_type": "display_data"
    },
    {
     "name": "stdout",
     "output_type": "stream",
     "text": [
      "\n"
     ]
    },
    {
     "data": {
      "application/vnd.jupyter.widget-view+json": {
       "model_id": "a1153bc9956f47de9581d07c7262ace4",
       "version_major": 2,
       "version_minor": 0
      },
      "text/plain": [
       "HBox(children=(FloatProgress(value=0.0, description='Export report to file', max=1.0, style=ProgressStyle(desc…"
      ]
     },
     "metadata": {},
     "output_type": "display_data"
    },
    {
     "name": "stdout",
     "output_type": "stream",
     "text": [
      "\n"
     ]
    }
   ],
   "source": [
    "from pandas_profiling import ProfileReport\n",
    "prof = ProfileReport(train_df)\n",
    "prof.to_file(output_file='adult_profile.html')"
   ]
  },
  {
   "cell_type": "code",
   "execution_count": 16,
   "metadata": {},
   "outputs": [
    {
     "data": {
      "image/png": "[encoded data removed]",
      "text/plain": [
       "<Figure size 720x576 with 1 Axes>"
      ]
     },
     "metadata": {
      "needs_background": "light"
     },
     "output_type": "display_data"
    }
   ],
   "source": [
    "pos_df = train_df[train_df['y'] == '<=50K']\n",
    "neg_df = train_df[train_df['y'] == '>50K']\n",
    "\n",
    "all_education = dict(train_df.education.value_counts())\n",
    "all_education = collections.OrderedDict(sorted(all_education.items()))\n",
    "\n",
    "pos_education = dict(pos_df.education.value_counts())\n",
    "pos_education = collections.OrderedDict(sorted(pos_education.items()))\n",
    "\n",
    "\n",
    "neg_education = dict(neg_df.education.value_counts())\n",
    "neg_education = collections.OrderedDict(sorted(neg_education.items()))\n",
    "\n",
    "\n",
    "\n",
    "x_pos = [i for i, _ in enumerate(all_education.keys())]\n",
    "\n",
    "plt.figure(figsize=(10,8))\n",
    "plt.barh(x_pos, all_education.values())\n",
    "plt.title(\"Education Level Distribution\")\n",
    "\n",
    "plt.yticks(x_pos, all_education.keys())\n",
    "\n",
    "plt.show()"
   ]
  },
  {
   "cell_type": "code",
   "execution_count": null,
   "metadata": {},
   "outputs": [],
   "source": []
  }
 ],
 "metadata": {
  "kernelspec": {
   "display_name": "Python 3",
   "language": "python",
   "name": "python3"
  },
  "language_info": {
   "codemirror_mode": {
    "name": "ipython",
    "version": 3
   },
   "file_extension": ".py",
   "mimetype": "text/x-python",
   "name": "python",
   "nbconvert_exporter": "python",
   "pygments_lexer": "ipython3",
   "version": "3.8.5"
  }
 },
 "nbformat": 4,
 "nbformat_minor": 4
}
